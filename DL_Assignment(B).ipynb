{
  "nbformat": 4,
  "nbformat_minor": 0,
  "metadata": {
    "colab": {
      "provenance": [],
      "gpuType": "T4"
    },
    "kernelspec": {
      "name": "python3",
      "display_name": "Python 3"
    },
    "language_info": {
      "name": "python"
    },
    "accelerator": "GPU"
  },
  "cells": [
    {
      "cell_type": "code",
      "source": [
        "from google.colab import drive\n",
        "drive.mount('/content/drive')"
      ],
      "metadata": {
        "colab": {
          "base_uri": "https://localhost:8080/"
        },
        "id": "63tunC_pPvHu",
        "outputId": "580c50e9-ea21-4280-dd98-bb61c7b3ac8f"
      },
      "execution_count": 1,
      "outputs": [
        {
          "output_type": "stream",
          "name": "stdout",
          "text": [
            "Drive already mounted at /content/drive; to attempt to forcibly remount, call drive.mount(\"/content/drive\", force_remount=True).\n"
          ]
        }
      ]
    },
    {
      "cell_type": "code",
      "source": [],
      "metadata": {
        "id": "UQeDiiggFMY1"
      },
      "execution_count": null,
      "outputs": []
    },
    {
      "cell_type": "code",
      "source": [
        "# Imports\n",
        "import os\n",
        "import torch\n",
        "import torch.nn as nn\n",
        "import torchvision\n",
        "from torchvision import transforms, datasets, models\n",
        "from torch.utils.data import DataLoader, random_split\n",
        "from sklearn.metrics import accuracy_score\n",
        "import matplotlib.pyplot as plt\n",
        "import numpy as np\n"
      ],
      "metadata": {
        "id": "PpME6FbuzeH_"
      },
      "execution_count": 4,
      "outputs": []
    },
    {
      "cell_type": "markdown",
      "source": [
        "Question 1(a): Most ImageNet models expect 224x224 images. We can resize the iNaturalist dataset images using transforms."
      ],
      "metadata": {
        "id": "cBGcOqeFAtmC"
      }
    },
    {
      "cell_type": "code",
      "source": [
        "transform = transforms.Compose([\n",
        "    transforms.Resize((224, 224)),\n",
        "    transforms.ToTensor(),\n",
        "    transforms.Normalize(mean=[0.485, 0.456, 0.406],\n",
        "                         std=[0.229, 0.224, 0.225])\n",
        "])\n"
      ],
      "metadata": {
        "id": "5WI06t2jzeOa"
      },
      "execution_count": 2,
      "outputs": []
    },
    {
      "cell_type": "markdown",
      "source": [
        "Question 1(b): Mismatch in Number of Output Classes:\n",
        "Modify the final layer of the model:\n",
        "\n"
      ],
      "metadata": {
        "id": "2Bau9h3vA8W5"
      }
    },
    {
      "cell_type": "code",
      "source": [
        "model = models.resnet50(pretrained=True)\n",
        "num_ftrs = model.fc.in_features\n",
        "model.fc = nn.Linear(num_ftrs, 10)  # for 10 classes\n"
      ],
      "metadata": {
        "colab": {
          "base_uri": "https://localhost:8080/"
        },
        "id": "zEj5a2r7zeKt",
        "outputId": "258a2676-6e42-45ab-cca8-9841dd998475"
      },
      "execution_count": 3,
      "outputs": [
        {
          "output_type": "stream",
          "name": "stderr",
          "text": [
            "/usr/local/lib/python3.11/dist-packages/torchvision/models/_utils.py:208: UserWarning: The parameter 'pretrained' is deprecated since 0.13 and may be removed in the future, please use 'weights' instead.\n",
            "  warnings.warn(\n",
            "/usr/local/lib/python3.11/dist-packages/torchvision/models/_utils.py:223: UserWarning: Arguments other than a weight enum or `None` for 'weights' are deprecated since 0.13 and may be removed in the future. The current behavior is equivalent to passing `weights=ResNet50_Weights.IMAGENET1K_V1`. You can also use `weights=ResNet50_Weights.DEFAULT` to get the most up-to-date weights.\n",
            "  warnings.warn(msg)\n",
            "Downloading: \"https://download.pytorch.org/models/resnet50-0676ba61.pth\" to /root/.cache/torch/hub/checkpoints/resnet50-0676ba61.pth\n",
            "100%|██████████| 97.8M/97.8M [00:00<00:00, 181MB/s]\n"
          ]
        }
      ]
    },
    {
      "cell_type": "markdown",
      "source": [
        "\n",
        "*QUESTION 3 :*\n",
        "\n",
        "---\n",
        "\n",
        "\n",
        "**Fine-tuning Strategy Used**:\n",
        "*   Freeze all except the last FC layer\n",
        "*   Resize images to 224x224\n",
        "*   Adam optimizer\n",
        "*   Epochs: 10\n",
        "\n",
        "\n",
        "\n",
        "\n",
        "\n",
        "\n",
        "\n"
      ],
      "metadata": {
        "id": "Vv3tPKVVCtFf"
      }
    },
    {
      "cell_type": "markdown",
      "source": [
        "Dataset + Split"
      ],
      "metadata": {
        "id": "rG348FRcHGqd"
      }
    },
    {
      "cell_type": "code",
      "source": [
        "full_dataset = datasets.ImageFolder(\"/content/drive/MyDrive/nature_12K/inaturalist_12K/train\", transform=transform)\n",
        "val_size = int(0.2 * len(full_dataset))\n",
        "train_size = len(full_dataset) - val_size\n",
        "train_dataset, val_dataset = random_split(full_dataset, [train_size, val_size])\n",
        "\n",
        "test_dataset = datasets.ImageFolder(\"/content/drive/MyDrive/nature_12K/inaturalist_12K/val\", transform=transform)\n",
        "\n",
        "train_loader = DataLoader(train_dataset, batch_size=32, shuffle=True)\n",
        "val_loader = DataLoader(val_dataset, batch_size=32, shuffle=False)\n",
        "test_loader = DataLoader(test_dataset, batch_size=32, shuffle=False)\n"
      ],
      "metadata": {
        "id": "Y1jbJ284zd0Q"
      },
      "execution_count": 11,
      "outputs": []
    },
    {
      "cell_type": "markdown",
      "source": [
        "## Fine-tuning Strategy"
      ],
      "metadata": {
        "id": "JUAoI044G7ph"
      }
    },
    {
      "cell_type": "code",
      "source": [
        "def get_model(freeze_strategy='fc_only'):\n",
        "    model = models.resnet50(pretrained=True)\n",
        "    for param in model.parameters():\n",
        "        param.requires_grad = False\n",
        "\n",
        "    if freeze_strategy == 'partial':\n",
        "        for name, param in model.named_parameters():\n",
        "            if 'layer4' in name or 'fc' in name:\n",
        "                param.requires_grad = True\n",
        "\n",
        "    num_ftrs = model.fc.in_features\n",
        "    model.fc = nn.Linear(num_ftrs, 10)  # 10 classes\n",
        "    return model\n"
      ],
      "metadata": {
        "id": "IdIswiG7GcU3"
      },
      "execution_count": 10,
      "outputs": []
    },
    {
      "cell_type": "markdown",
      "source": [
        "Training + Validation"
      ],
      "metadata": {
        "id": "hIgJfSNhHTUt"
      }
    },
    {
      "cell_type": "code",
      "source": [
        "def train_one_epoch(model, dataloader, optimizer, criterion, device):\n",
        "    model.train()\n",
        "    running_loss, correct = 0.0, 0\n",
        "    for inputs, labels in dataloader:\n",
        "        inputs, labels = inputs.to(device), labels.to(device)\n",
        "        optimizer.zero_grad()\n",
        "        outputs = model(inputs)\n",
        "        loss = criterion(outputs, labels)\n",
        "        loss.backward()\n",
        "        optimizer.step()\n",
        "        running_loss += loss.item()\n",
        "        _, preds = torch.max(outputs, 1)\n",
        "        correct += torch.sum(preds == labels.data)\n",
        "    return running_loss / len(dataloader), correct.double() / len(dataloader.dataset)\n",
        "\n",
        "def validate(model, dataloader, criterion, device):\n",
        "    model.eval()\n",
        "    running_loss, correct = 0.0, 0\n",
        "    with torch.no_grad():\n",
        "        for inputs, labels in dataloader:\n",
        "            inputs, labels = inputs.to(device), labels.to(device)\n",
        "            outputs = model(inputs)\n",
        "            loss = criterion(outputs, labels)\n",
        "            running_loss += loss.item()\n",
        "            _, preds = torch.max(outputs, 1)\n",
        "            correct += torch.sum(preds == labels.data)\n",
        "    return running_loss / len(dataloader), correct.double() / len(dataloader.dataset)\n"
      ],
      "metadata": {
        "id": "pIX0cn7AHL33"
      },
      "execution_count": 12,
      "outputs": []
    },
    {
      "cell_type": "markdown",
      "source": [
        "Final Evaluation on Test Set"
      ],
      "metadata": {
        "id": "i8kSkPW8Hv37"
      }
    },
    {
      "cell_type": "code",
      "source": [
        "def evaluate_on_test(model, dataloader, device):\n",
        "    model.eval()\n",
        "    all_preds, all_labels = [], []\n",
        "    with torch.no_grad():\n",
        "        for inputs, labels in dataloader:\n",
        "            inputs = inputs.to(device)\n",
        "            outputs = model(inputs)\n",
        "            _, preds = torch.max(outputs, 1)\n",
        "            all_preds.extend(preds.cpu().numpy())\n",
        "            all_labels.extend(labels.numpy())\n",
        "\n",
        "    acc = accuracy_score(all_labels, all_preds)\n",
        "    print(f\"✅ Test Accuracy: {acc * 100:.2f}%\")\n"
      ],
      "metadata": {
        "id": "YbAIebsGHhhw"
      },
      "execution_count": 16,
      "outputs": []
    },
    {
      "cell_type": "markdown",
      "source": [
        " Visualize Predictions"
      ],
      "metadata": {
        "id": "HOZGUI1rH2gn"
      }
    },
    {
      "cell_type": "code",
      "source": [
        "def show_preds(model, dataloader, class_names):\n",
        "    model.eval()\n",
        "    inputs, labels = next(iter(dataloader))\n",
        "    outputs = model(inputs.cuda())\n",
        "    _, preds = torch.max(outputs, 1)\n",
        "\n",
        "    plt.figure(figsize=(12, 8))\n",
        "    for i in range(10):\n",
        "        ax = plt.subplot(2, 5, i + 1)\n",
        "        img = inputs[i].permute(1, 2, 0).numpy()\n",
        "        img = img * [0.229, 0.224, 0.225] + [0.485, 0.456, 0.406]\n",
        "        plt.imshow(np.clip(img, 0, 1))\n",
        "        plt.title(f\"Pred: {class_names[preds[i]]}\")\n",
        "        plt.axis(\"off\")\n",
        "    plt.tight_layout()\n"
      ],
      "metadata": {
        "id": "loS5SSFMHxpo"
      },
      "execution_count": 17,
      "outputs": []
    }
  ]
}